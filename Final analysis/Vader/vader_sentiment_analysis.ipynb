{
 "cells": [
  {
   "cell_type": "markdown",
   "id": "28b65ba2",
   "metadata": {},
   "source": [
    "# Vader"
   ]
  },
  {
   "cell_type": "code",
   "execution_count": 1,
   "id": "819b2629",
   "metadata": {},
   "outputs": [],
   "source": [
    "# Import all the necessary packages.\n",
    "import pandas as pd\n",
    "import numpy as np \n",
    "import nltk\n",
    "import matplotlib.pyplot as plt\n",
    "import warnings\n",
    "\n",
    "nltk.download('vader_lexicon')\n",
    "from nltk.sentiment.vader import SentimentIntensityAnalyzer"
   ]
  },
  {
   "cell_type": "code",
   "execution_count": 13,
   "id": "4ac1eb96",
   "metadata": {
    "scrolled": true
   },
   "outputs": [
    {
     "data": {
      "text/html": [
       "<div>\n",
       "<style scoped>\n",
       "    .dataframe tbody tr th:only-of-type {\n",
       "        vertical-align: middle;\n",
       "    }\n",
       "\n",
       "    .dataframe tbody tr th {\n",
       "        vertical-align: top;\n",
       "    }\n",
       "\n",
       "    .dataframe thead th {\n",
       "        text-align: right;\n",
       "    }\n",
       "</style>\n",
       "<table border=\"1\" class=\"dataframe\">\n",
       "  <thead>\n",
       "    <tr style=\"text-align: right;\">\n",
       "      <th></th>\n",
       "      <th>reference</th>\n",
       "      <th>country</th>\n",
       "      <th>date</th>\n",
       "      <th>title</th>\n",
       "      <th>author</th>\n",
       "      <th>is_gov</th>\n",
       "      <th>text</th>\n",
       "      <th>Body</th>\n",
       "      <th>central_bank</th>\n",
       "      <th>year</th>\n",
       "      <th>language</th>\n",
       "      <th>clean_text</th>\n",
       "    </tr>\n",
       "  </thead>\n",
       "  <tbody>\n",
       "    <tr>\n",
       "      <th>0</th>\n",
       "      <td>r980915a_BOE</td>\n",
       "      <td>United Kingdom</td>\n",
       "      <td>1998-09-15</td>\n",
       "      <td>Speech</td>\n",
       "      <td>George</td>\n",
       "      <td>False</td>\n",
       "      <td>Thank you, Chairman. I'm actually very pleased...</td>\n",
       "      <td>BOE</td>\n",
       "      <td>Bank of England</td>\n",
       "      <td>1998</td>\n",
       "      <td>en</td>\n",
       "      <td>Thank you, Chairman. I'm actually very pleased...</td>\n",
       "    </tr>\n",
       "    <tr>\n",
       "      <th>1</th>\n",
       "      <td>r981021b_BOE</td>\n",
       "      <td>United Kingdom</td>\n",
       "      <td>1998-10-21</td>\n",
       "      <td>Britain in Europe</td>\n",
       "      <td>George</td>\n",
       "      <td>False</td>\n",
       "      <td>It's a great pleasure to be here in the beauti...</td>\n",
       "      <td>BOE</td>\n",
       "      <td>Bank of England</td>\n",
       "      <td>1998</td>\n",
       "      <td>en</td>\n",
       "      <td>It's a great pleasure to be here in the beauti...</td>\n",
       "    </tr>\n",
       "    <tr>\n",
       "      <th>2</th>\n",
       "      <td>r981021a_BOE</td>\n",
       "      <td>United Kingdom</td>\n",
       "      <td>1998-10-21</td>\n",
       "      <td>Impact of the recent turbulence in internation...</td>\n",
       "      <td>King</td>\n",
       "      <td>True</td>\n",
       "      <td>Few industries have suffered more from volatil...</td>\n",
       "      <td>BOE</td>\n",
       "      <td>Bank of England</td>\n",
       "      <td>1998</td>\n",
       "      <td>en</td>\n",
       "      <td>Few industries have suffered more from volatil...</td>\n",
       "    </tr>\n",
       "    <tr>\n",
       "      <th>3</th>\n",
       "      <td>r981101a_BOE</td>\n",
       "      <td>United Kingdom</td>\n",
       "      <td>1998-11-01</td>\n",
       "      <td>Economic policy, with and without forecasts</td>\n",
       "      <td>Budd</td>\n",
       "      <td>False</td>\n",
       "      <td>My topic this evening is the use of forecasts ...</td>\n",
       "      <td>BOE</td>\n",
       "      <td>Bank of England</td>\n",
       "      <td>1998</td>\n",
       "      <td>en</td>\n",
       "      <td>My topic this evening is the use of forecasts ...</td>\n",
       "    </tr>\n",
       "    <tr>\n",
       "      <th>4</th>\n",
       "      <td>r981101b_BOE</td>\n",
       "      <td>United Kingdom</td>\n",
       "      <td>1998-11-01</td>\n",
       "      <td>Inflation targeting in practice: the UK experi...</td>\n",
       "      <td>Vickers</td>\n",
       "      <td>False</td>\n",
       "      <td>Six years ago this week, sterling left the exc...</td>\n",
       "      <td>BOE</td>\n",
       "      <td>Bank of England</td>\n",
       "      <td>1998</td>\n",
       "      <td>en</td>\n",
       "      <td>Six years ago this week, sterling left the exc...</td>\n",
       "    </tr>\n",
       "  </tbody>\n",
       "</table>\n",
       "</div>"
      ],
      "text/plain": [
       "      reference         country        date  \\\n",
       "0  r980915a_BOE  United Kingdom  1998-09-15   \n",
       "1  r981021b_BOE  United Kingdom  1998-10-21   \n",
       "2  r981021a_BOE  United Kingdom  1998-10-21   \n",
       "3  r981101a_BOE  United Kingdom  1998-11-01   \n",
       "4  r981101b_BOE  United Kingdom  1998-11-01   \n",
       "\n",
       "                                               title   author  is_gov  \\\n",
       "0                                             Speech   George   False   \n",
       "1                                  Britain in Europe   George   False   \n",
       "2  Impact of the recent turbulence in internation...     King    True   \n",
       "3        Economic policy, with and without forecasts     Budd   False   \n",
       "4  Inflation targeting in practice: the UK experi...  Vickers   False   \n",
       "\n",
       "                                                text Body     central_bank  \\\n",
       "0  Thank you, Chairman. I'm actually very pleased...  BOE  Bank of England   \n",
       "1  It's a great pleasure to be here in the beauti...  BOE  Bank of England   \n",
       "2  Few industries have suffered more from volatil...  BOE  Bank of England   \n",
       "3  My topic this evening is the use of forecasts ...  BOE  Bank of England   \n",
       "4  Six years ago this week, sterling left the exc...  BOE  Bank of England   \n",
       "\n",
       "   year language                                         clean_text  \n",
       "0  1998       en  Thank you, Chairman. I'm actually very pleased...  \n",
       "1  1998       en  It's a great pleasure to be here in the beauti...  \n",
       "2  1998       en  Few industries have suffered more from volatil...  \n",
       "3  1998       en  My topic this evening is the use of forecasts ...  \n",
       "4  1998       en  Six years ago this week, sterling left the exc...  "
      ]
     },
     "execution_count": 13,
     "metadata": {},
     "output_type": "execute_result"
    }
   ],
   "source": [
    "# Import the data set.\n",
    "speech_vader = pd.read_csv('speech_vader_1.csv')\n",
    "\n",
    "# View the DataFrame.\n",
    "speech_vader.head()"
   ]
  },
  {
   "cell_type": "code",
   "execution_count": 3,
   "id": "666ca738",
   "metadata": {},
   "outputs": [],
   "source": [
    "# Import the vader class SentimentIntensityAnalyser.\n",
    "from nltk.sentiment.vader import SentimentIntensityAnalyzer\n",
    "\n",
    "# Create a variable sia to store the SentimentIntensityAnalyser() method.\n",
    "sia = SentimentIntensityAnalyzer()"
   ]
  },
  {
   "cell_type": "code",
   "execution_count": 4,
   "id": "42b55ade",
   "metadata": {},
   "outputs": [],
   "source": [
    "# Let's apply the sentiment intensity analyser\n",
    "speech_vader['vader_sentiment'] = speech_vader['clean_text'].apply(lambda x: sia.polarity_scores(x))"
   ]
  },
  {
   "cell_type": "code",
   "execution_count": 5,
   "id": "5f63b00e",
   "metadata": {},
   "outputs": [],
   "source": [
    "# For future comparisons, including those with TextBlob and visualisations, it is\n",
    "# necessary to separately store 'compound' sentiment scores. \n",
    "# This allows for direct comparison between different sentiment analysis methods.\n",
    "\n",
    "# Extract 'compound' sentiment scores and store in a new column prefixed with 'vader_'\n",
    "speech_vader['vader_compound'] = speech_vader['vader_sentiment'].apply(lambda x: x['compound'])\n",
    "\n",
    "# Extract 'pos' sentiment scores and store in a new column prefixed with 'vader_'\n",
    "speech_vader['vader_pos'] = speech_vader['vader_sentiment'].apply(lambda x: x['pos'])\n",
    "\n",
    "# Extract 'neg' sentiment scores and store in a new column prefixed with 'vader_'\n",
    "speech_vader['vader_neg'] = speech_vader['vader_sentiment'].apply(lambda x: x['neg'])\n",
    "\n",
    "# Extract 'neu' sentiment scores and store in a new column prefixed with 'vader_'\n",
    "speech_vader['vader_neu'] = speech_vader['vader_sentiment'].apply(lambda x: x['neu'])"
   ]
  },
  {
   "cell_type": "code",
   "execution_count": 6,
   "id": "ba595ff4",
   "metadata": {},
   "outputs": [],
   "source": [
    "# We don't need the sentiment column\n",
    "speech_vader = speech_vader.drop('vader_sentiment', axis=1)"
   ]
  },
  {
   "cell_type": "code",
   "execution_count": 7,
   "id": "16c43def",
   "metadata": {
    "scrolled": true
   },
   "outputs": [
    {
     "data": {
      "text/html": [
       "<div>\n",
       "<style scoped>\n",
       "    .dataframe tbody tr th:only-of-type {\n",
       "        vertical-align: middle;\n",
       "    }\n",
       "\n",
       "    .dataframe tbody tr th {\n",
       "        vertical-align: top;\n",
       "    }\n",
       "\n",
       "    .dataframe thead th {\n",
       "        text-align: right;\n",
       "    }\n",
       "</style>\n",
       "<table border=\"1\" class=\"dataframe\">\n",
       "  <thead>\n",
       "    <tr style=\"text-align: right;\">\n",
       "      <th></th>\n",
       "      <th>reference</th>\n",
       "      <th>country</th>\n",
       "      <th>date</th>\n",
       "      <th>title</th>\n",
       "      <th>author</th>\n",
       "      <th>is_gov</th>\n",
       "      <th>text</th>\n",
       "      <th>Body</th>\n",
       "      <th>central_bank</th>\n",
       "      <th>year</th>\n",
       "      <th>language</th>\n",
       "      <th>clean_text</th>\n",
       "      <th>vader_compound</th>\n",
       "      <th>vader_pos</th>\n",
       "      <th>vader_neg</th>\n",
       "      <th>vader_neu</th>\n",
       "    </tr>\n",
       "  </thead>\n",
       "  <tbody>\n",
       "    <tr>\n",
       "      <th>0</th>\n",
       "      <td>r980915a_BOE</td>\n",
       "      <td>United Kingdom</td>\n",
       "      <td>1998-09-15</td>\n",
       "      <td>Speech</td>\n",
       "      <td>George</td>\n",
       "      <td>False</td>\n",
       "      <td>Thank you, Chairman. I'm actually very pleased...</td>\n",
       "      <td>BOE</td>\n",
       "      <td>Bank of England</td>\n",
       "      <td>1998</td>\n",
       "      <td>en</td>\n",
       "      <td>Thank you, Chairman. I'm actually very pleased...</td>\n",
       "      <td>0.9968</td>\n",
       "      <td>0.104</td>\n",
       "      <td>0.084</td>\n",
       "      <td>0.812</td>\n",
       "    </tr>\n",
       "    <tr>\n",
       "      <th>1</th>\n",
       "      <td>r981021b_BOE</td>\n",
       "      <td>United Kingdom</td>\n",
       "      <td>1998-10-21</td>\n",
       "      <td>Britain in Europe</td>\n",
       "      <td>George</td>\n",
       "      <td>False</td>\n",
       "      <td>It's a great pleasure to be here in the beauti...</td>\n",
       "      <td>BOE</td>\n",
       "      <td>Bank of England</td>\n",
       "      <td>1998</td>\n",
       "      <td>en</td>\n",
       "      <td>It's a great pleasure to be here in the beauti...</td>\n",
       "      <td>0.9999</td>\n",
       "      <td>0.157</td>\n",
       "      <td>0.076</td>\n",
       "      <td>0.767</td>\n",
       "    </tr>\n",
       "    <tr>\n",
       "      <th>2</th>\n",
       "      <td>r981021a_BOE</td>\n",
       "      <td>United Kingdom</td>\n",
       "      <td>1998-10-21</td>\n",
       "      <td>Impact of the recent turbulence in internation...</td>\n",
       "      <td>King</td>\n",
       "      <td>True</td>\n",
       "      <td>Few industries have suffered more from volatil...</td>\n",
       "      <td>BOE</td>\n",
       "      <td>Bank of England</td>\n",
       "      <td>1998</td>\n",
       "      <td>en</td>\n",
       "      <td>Few industries have suffered more from volatil...</td>\n",
       "      <td>0.9982</td>\n",
       "      <td>0.118</td>\n",
       "      <td>0.081</td>\n",
       "      <td>0.801</td>\n",
       "    </tr>\n",
       "    <tr>\n",
       "      <th>3</th>\n",
       "      <td>r981101a_BOE</td>\n",
       "      <td>United Kingdom</td>\n",
       "      <td>1998-11-01</td>\n",
       "      <td>Economic policy, with and without forecasts</td>\n",
       "      <td>Budd</td>\n",
       "      <td>False</td>\n",
       "      <td>My topic this evening is the use of forecasts ...</td>\n",
       "      <td>BOE</td>\n",
       "      <td>Bank of England</td>\n",
       "      <td>1998</td>\n",
       "      <td>en</td>\n",
       "      <td>My topic this evening is the use of forecasts ...</td>\n",
       "      <td>0.9997</td>\n",
       "      <td>0.096</td>\n",
       "      <td>0.049</td>\n",
       "      <td>0.855</td>\n",
       "    </tr>\n",
       "    <tr>\n",
       "      <th>4</th>\n",
       "      <td>r981101b_BOE</td>\n",
       "      <td>United Kingdom</td>\n",
       "      <td>1998-11-01</td>\n",
       "      <td>Inflation targeting in practice: the UK experi...</td>\n",
       "      <td>Vickers</td>\n",
       "      <td>False</td>\n",
       "      <td>Six years ago this week, sterling left the exc...</td>\n",
       "      <td>BOE</td>\n",
       "      <td>Bank of England</td>\n",
       "      <td>1998</td>\n",
       "      <td>en</td>\n",
       "      <td>Six years ago this week, sterling left the exc...</td>\n",
       "      <td>0.9988</td>\n",
       "      <td>0.092</td>\n",
       "      <td>0.071</td>\n",
       "      <td>0.837</td>\n",
       "    </tr>\n",
       "  </tbody>\n",
       "</table>\n",
       "</div>"
      ],
      "text/plain": [
       "      reference         country        date  \\\n",
       "0  r980915a_BOE  United Kingdom  1998-09-15   \n",
       "1  r981021b_BOE  United Kingdom  1998-10-21   \n",
       "2  r981021a_BOE  United Kingdom  1998-10-21   \n",
       "3  r981101a_BOE  United Kingdom  1998-11-01   \n",
       "4  r981101b_BOE  United Kingdom  1998-11-01   \n",
       "\n",
       "                                               title   author  is_gov  \\\n",
       "0                                             Speech   George   False   \n",
       "1                                  Britain in Europe   George   False   \n",
       "2  Impact of the recent turbulence in internation...     King    True   \n",
       "3        Economic policy, with and without forecasts     Budd   False   \n",
       "4  Inflation targeting in practice: the UK experi...  Vickers   False   \n",
       "\n",
       "                                                text Body     central_bank  \\\n",
       "0  Thank you, Chairman. I'm actually very pleased...  BOE  Bank of England   \n",
       "1  It's a great pleasure to be here in the beauti...  BOE  Bank of England   \n",
       "2  Few industries have suffered more from volatil...  BOE  Bank of England   \n",
       "3  My topic this evening is the use of forecasts ...  BOE  Bank of England   \n",
       "4  Six years ago this week, sterling left the exc...  BOE  Bank of England   \n",
       "\n",
       "   year language                                         clean_text  \\\n",
       "0  1998       en  Thank you, Chairman. I'm actually very pleased...   \n",
       "1  1998       en  It's a great pleasure to be here in the beauti...   \n",
       "2  1998       en  Few industries have suffered more from volatil...   \n",
       "3  1998       en  My topic this evening is the use of forecasts ...   \n",
       "4  1998       en  Six years ago this week, sterling left the exc...   \n",
       "\n",
       "   vader_compound  vader_pos  vader_neg  vader_neu  \n",
       "0          0.9968      0.104      0.084      0.812  \n",
       "1          0.9999      0.157      0.076      0.767  \n",
       "2          0.9982      0.118      0.081      0.801  \n",
       "3          0.9997      0.096      0.049      0.855  \n",
       "4          0.9988      0.092      0.071      0.837  "
      ]
     },
     "execution_count": 7,
     "metadata": {},
     "output_type": "execute_result"
    }
   ],
   "source": [
    "# View the DataFrame.\n",
    "speech_vader.head()"
   ]
  },
  {
   "cell_type": "markdown",
   "id": "098ddfcd",
   "metadata": {},
   "source": [
    "The key takeaway is that the compound score captures the overall sentiment intensity, not just the balance of positive versus negative language. \n",
    "- This allows it to indicate a strong positive sentiment even when the explicitly positive content makes up a smaller portion of the text, especially if that positive content is very strongly positive.\n",
    "- This is the rule based approach that gives Vader a better understanding of full context. "
   ]
  },
  {
   "cell_type": "code",
   "execution_count": 8,
   "id": "aab3f7d4",
   "metadata": {},
   "outputs": [
    {
     "name": "stdout",
     "output_type": "stream",
     "text": [
      "34\n"
     ]
    }
   ],
   "source": [
    "# Using the square-root rule to determine histogram bins\n",
    "print(int(np.sqrt(len(speech_vader['vader_compound']))))"
   ]
  },
  {
   "cell_type": "code",
   "execution_count": 9,
   "id": "2f7e1850",
   "metadata": {
    "scrolled": false
   },
   "outputs": [
    {
     "data": {
      "image/png": "[encoded data removed]",
      "text/plain": [
       "<Figure size 1000x500 with 1 Axes>"
      ]
     },
     "metadata": {},
     "output_type": "display_data"
    }
   ],
   "source": [
    "# Histogram for speech_vader_compound\n",
    "plt.figure(figsize=(10, 5))\n",
    "plt.hist(\n",
    "    speech_vader['vader_compound'],\n",
    "    bins=34,\n",
    "    alpha=0.7,\n",
    "    color='blue',\n",
    "    label='Speech Vader Compound scores'\n",
    ")\n",
    "plt.title('Histogram of Speech Vader Compound Scores')\n",
    "plt.xlabel('Vader Compound Score')\n",
    "plt.ylabel('Frequency')\n",
    "plt.legend()\n",
    "plt.show()"
   ]
  },
  {
   "cell_type": "markdown",
   "id": "6d592526",
   "metadata": {},
   "source": [
    "- This is unlikely to reflect how the Bank of England chooses the tone of its speeches so we have to assume again that Vader’s more generalised lexicon is not appropriate for more financial contexts. \n",
    "- Since Vader is particularly useful at analysing language like social media, Vader’s method of analysing intensity might be picking up on the presence of strong financial jargon and interpreting it as carrying more sentiment weight than intended."
   ]
  },
  {
   "cell_type": "code",
   "execution_count": 10,
   "id": "b614221e",
   "metadata": {},
   "outputs": [
    {
     "data": {
      "text/plain": [
       "count    1209.000000\n",
       "mean        0.735447\n",
       "std         0.664696\n",
       "min        -1.000000\n",
       "25%         0.996400\n",
       "50%         0.999400\n",
       "75%         0.999800\n",
       "max         1.000000\n",
       "Name: vader_compound, dtype: float64"
      ]
     },
     "execution_count": 10,
     "metadata": {},
     "output_type": "execute_result"
    }
   ],
   "source": [
    "speech_vader['vader_compound'].describe()"
   ]
  },
  {
   "cell_type": "markdown",
   "id": "557a076a",
   "metadata": {},
   "source": [
    "- Mean: The average sentiment score is very high (0.735447), indicating a extremely positive sentiment across the dataset.\n",
    "- Standard Deviation: The standard deviation is significant too (0.664696), suggesting a wide range of sentiment scores from highly negative to highly positive.\n",
    "- Minimum: The lowest sentiment score is -1.000000, indicating the presence of extremely negative sentiments in some instances.\n",
    "- 25th Percentile: This value is very high (0.996400), which is unusual for sentiment scores and suggests that 25% of the data has very high positive scores, just below the maximum. \n",
    "- Median (50th Percentile): The median is 0.999400, extremely close to the maximum, again showing a very strong positive sentiment within the dataset.\n",
    "- 75th Percentile: With 75% of scores below 0.999800, we see that the vast majority of the dataset skews towards the maximum positive score.\n",
    "- Maximum: The highest sentiment score is 1.000000, the highest possible score, indicating extremely positive sentiments."
   ]
  },
  {
   "cell_type": "code",
   "execution_count": 11,
   "id": "b4f9b87c",
   "metadata": {},
   "outputs": [],
   "source": [
    "# speech_vader.to_csv('vader_scores.csv',index=False)"
   ]
  }
 ],
 "metadata": {
  "kernelspec": {
   "display_name": "Python 3 (ipykernel)",
   "language": "python",
   "name": "python3"
  },
  "language_info": {
   "codemirror_mode": {
    "name": "ipython",
    "version": 3
   },
   "file_extension": ".py",
   "mimetype": "text/x-python",
   "name": "python",
   "nbconvert_exporter": "python",
   "pygments_lexer": "ipython3",
   "version": "3.11.5"
  }
 },
 "nbformat": 4,
 "nbformat_minor": 5
}
